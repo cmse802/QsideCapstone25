{
 "cells": [
  {
   "cell_type": "code",
   "execution_count": 6,
   "id": "670c5aee-3c98-4aff-9dd6-d4b313093bc5",
   "metadata": {},
   "outputs": [
    {
     "name": "stdout",
     "output_type": "stream",
     "text": [
      "Sending request to Census Geocoder API...\n",
      "\n",
      " GEOID for the address: 110019800001034\n"
     ]
    }
   ],
   "source": [
    "import requests\n",
    "import pandas as pd\n",
    "import time\n",
    "\n",
    "# Example Address\n",
    "address_params = {\n",
    "    \"street\": \"1600 Pennsylvania Avenue NW\",\n",
    "    \"city\": \"Washington\",\n",
    "    \"state\": \"DC\",\n",
    "    \"benchmark\": \"4\",  # Uses the most recent Census data\n",
    "    \"vintage\": \"4\",    # Uses the current geography data\n",
    "    \"format\": \"json\"\n",
    "}\n",
    "\n",
    "# Base URL for the U.S. Census Geocoder API\n",
    "base_url = \"https://geocoding.geo.census.gov/geocoder/geographies/address\"\n",
    "\n",
    "# Sending API Request\n",
    "print(\"Sending request to Census Geocoder API...\")\n",
    "response = requests.get(base_url, params=address_params)\n",
    "\n",
    "# Parse the Response and Extract GEOID\n",
    "if response.status_code == 200:\n",
    "    data = response.json()\n",
    "    try:\n",
    "        if data['result']['addressMatches']:\n",
    "            geoid = data['result']['addressMatches'][0]['geographies']['2020 Census Blocks'][0]['GEOID']\n",
    "            print(f\"\\n GEOID for the address: {geoid}\")\n",
    "        else:\n",
    "            print(\"No match found for the address.\")\n",
    "    except KeyError:\n",
    "        print(\"GEOID not found in the response structure.\")\n",
    "else:\n",
    "    print(f\"Request failed with status code: {response.status_code}\")"
   ]
  },
  {
   "cell_type": "code",
   "execution_count": null,
   "id": "2ca1ff21-9932-423b-aa75-8399c8d54f43",
   "metadata": {},
   "outputs": [],
   "source": []
  }
 ],
 "metadata": {
  "kernelspec": {
   "display_name": "Python 3 (ipykernel)",
   "language": "python",
   "name": "python3"
  },
  "language_info": {
   "codemirror_mode": {
    "name": "ipython",
    "version": 3
   },
   "file_extension": ".py",
   "mimetype": "text/x-python",
   "name": "python",
   "nbconvert_exporter": "python",
   "pygments_lexer": "ipython3",
   "version": "3.9.12"
  }
 },
 "nbformat": 4,
 "nbformat_minor": 5
}
