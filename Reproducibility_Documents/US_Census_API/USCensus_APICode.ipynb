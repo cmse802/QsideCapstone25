{
 "cells": [
  {
   "cell_type": "code",
   "execution_count": 2,
   "id": "0a811f77",
   "metadata": {},
   "outputs": [],
   "source": [
    "import requests\n",
    "import pandas as pd\n",
    "import time"
   ]
  },
  {
   "cell_type": "markdown",
   "id": "36fbc4ff",
   "metadata": {},
   "source": [
    "# Producing Unique School Address Identfier GeoIDs"
   ]
  },
  {
   "cell_type": "code",
   "execution_count": 16,
   "id": "1de43936",
   "metadata": {
    "scrolled": true
   },
   "outputs": [
    {
     "name": "stdout",
     "output_type": "stream",
     "text": [
      "                             School                 Address            GEOID\n",
      "0             MacArthur High School  1499 West Grand Avenue  171150017002000\n",
      "1               Ball Charter School    2530 East Ash Street  171670024003025\n",
      "2  Trinity Lutheran Church & School    515 S MacArthur Blvd  171670012001007\n",
      "3     Stephen Decatur Middle School      1 Educational Park  171670012001007\n",
      "4             Lincoln Magnet School   300 South 11th Street  171670042003019\n"
     ]
    },
    {
     "name": "stderr",
     "output_type": "stream",
     "text": [
      "/var/folders/3y/y9xzkzj11pdb6_slv2s_8rk80000gn/T/ipykernel_74593/3181644689.py:40: UserWarning: Pandas requires version '3.0.5' or newer of 'xlsxwriter' (version '3.0.3' currently installed).\n",
      "  geoid_df.to_excel(\"/Users/ritziscol23/Dropbox/My Mac (MacBook-Pro.zyxel.com)/Downloads/Señior assignments/Community partners/School_GEOID_Mapping.xlsx\", index=False)\n"
     ]
    }
   ],
   "source": [
    "file_path = \"/Users/ritziscol23/Dropbox/My Mac (MacBook-Pro.zyxel.com)/Downloads/Señior assignments/Community partners/Student_Toy_data.xlsx\" # Change file path\n",
    "school_df = pd.read_excel(file_path, sheet_name=\"SchoolDemographics\")\n",
    "\n",
    "# Empty list for results\n",
    "results = []\n",
    "\n",
    "# Base URL for the U.S. Census Geocoder API\n",
    "base_url = \"https://geocoding.geo.census.gov/geocoder/geographies/address\"\n",
    "\n",
    "# Loop through the school data set and gets the street, city, state etc.\n",
    "for index, row in school_df.iterrows() :# Producing unique School ids\n",
    "    address_params = {\n",
    "        \"street\": row[\"SchoolAddress\"],\n",
    "        \"city\": row[\"City\"],\n",
    "        \"state\": row[\"State\"],\n",
    "        \"benchmark\": \"4\", # Uses the most recent Census data\n",
    "        \"vintage\": \"4\", # Uses the current geography data\n",
    "        \"format\": \"json\"\n",
    "    }\n",
    "    \n",
    "    # Sends the API request to the Census Geocoder with the formatted address parameters\n",
    "    response = requests.get(base_url, params=address_params)\n",
    "    \n",
    "    # Check if the API request was successful\n",
    "    if response.status_code == 200:\n",
    "        data = response.json()\n",
    "        try:\n",
    "            # Check if there are any matching addresses in the response\n",
    "            if data['result']['addressMatches']:\n",
    "                # Extract the GEOID from the \"2020 Census Blocks\" section of the response\n",
    "                geoid = data['result']['addressMatches'][0]['geographies']['2020 Census Blocks'][0]['GEOID']\n",
    "        except KeyError:\n",
    "            geoid = \"No Match Found\"\n",
    "    else:\n",
    "        geoid = \"Error\"\n",
    "\n",
    "     # Append the school name, address, and retrieved GEOID to the results list\n",
    "    results.append({\"School\": row[\"SchoolName\"], \"Address\": row[\"SchoolAddress\"], \"GEOID\": geoid})\n",
    "    time.sleep(1)  # Avoid API rate limits\n",
    "\n",
    "# Convert results into a DataFrame and display\n",
    "geoid_df = pd.DataFrame(results)\n",
    "\n",
    "# Save the results to a Excel file\n",
    "geoid_df.to_excel(\"/Users/ritziscol23/Dropbox/My Mac (MacBook-Pro.zyxel.com)/Downloads/Señior assignments/Community partners/School_GEOID_Mapping.xlsx\", index=False) # Change file output\n",
    "\n",
    "# Print the first few rows to check\n",
    "print(geoid_df.head())"
   ]
  },
  {
   "cell_type": "markdown",
   "id": "818456e3",
   "metadata": {},
   "source": [
    "# Producing Unique Address identfier GeoIDs"
   ]
  },
  {
   "cell_type": "code",
   "execution_count": 3,
   "id": "750b45c8",
   "metadata": {},
   "outputs": [
    {
     "name": "stdout",
     "output_type": "stream",
     "text": [
      "   Student              Address            GEOID\n",
      "0     John    2421 Arrowhead Dr  171670005011012\n",
      "1     Jane         922 N 4th St  171670009002012\n",
      "2  Michael  2213 W Chatsford Ct  171430034041008\n",
      "3    Emily   344 Point Bluff Dr  171150013001013\n",
      "4  William      2001 Marland St  171670004002010\n"
     ]
    },
    {
     "name": "stderr",
     "output_type": "stream",
     "text": [
      "/var/folders/3y/y9xzkzj11pdb6_slv2s_8rk80000gn/T/ipykernel_74142/1917007530.py:45: UserWarning: Pandas requires version '3.0.5' or newer of 'xlsxwriter' (version '3.0.3' currently installed).\n",
      "  geoid_df.to_excel(\"/Users/ritziscol23/Dropbox/My Mac (MacBook-Pro.zyxel.com)/Downloads/Señior assignments/Community partners/Stydent_GEOID_Mapping.xlsx\", index=False)\n"
     ]
    }
   ],
   "source": [
    "file_path = \"/Users/ritziscol23/Dropbox/My Mac (MacBook-Pro.zyxel.com)/Downloads/Señior assignments/Community partners/Student_Toy_data.xlsx\" # Change file path\n",
    "school_df = pd.read_excel(file_path, sheet_name=\"StudentDemographics\")\n",
    "\n",
    "# Empty list for results\n",
    "results = []\n",
    "\n",
    "# Base URL for the U.S. Census Geocoder API\n",
    "base_url = \"https://geocoding.geo.census.gov/geocoder/geographies/address\"\n",
    "\n",
    "# Loop through the school data set and gets the street, city, state etc.\n",
    "for index, row in school_df.iterrows():\n",
    "    address_params = {\n",
    "        \"street\": row[\"Address\"],\n",
    "        \"city\": row[\"City\"],\n",
    "        \"state\": row[\"State\"],\n",
    "        \"benchmark\": \"4\", # Uses the most recent Census data\n",
    "        \"vintage\": \"4\", # Uses the current geography data\n",
    "        \"format\": \"json\"\n",
    "    }\n",
    "    \n",
    "    # Sends the API request to the Census Geocoder with the formatted address parameters\n",
    "    response = requests.get(base_url, params=address_params)\n",
    "    \n",
    "    # Check if the API request was successful\n",
    "    if response.status_code == 200:\n",
    "        data = response.json()\n",
    "        try:\n",
    "            # Check if there are any matching addresses in the response\n",
    "            if data['result']['addressMatches']:\n",
    "                # Extract the GEOID from the \"2020 Census Blocks\" section of the response\n",
    "                geoid = data['result']['addressMatches'][0]['geographies']['2020 Census Blocks'][0]['GEOID']\n",
    "        except KeyError:\n",
    "            geoid = \"No Match Found\"\n",
    "    else:\n",
    "        geoid = \"Error\"\n",
    "\n",
    "     # Append the school name, address, and retrieved GEOID to the results list\n",
    "    results.append({\"Student\": row[\"StudentFirstName\"], \"Address\": row[\"Address\"], \"GEOID\": geoid})\n",
    "    time.sleep(1)  # Avoid API rate limits\n",
    "\n",
    "# Convert results into a DataFrame and display\n",
    "geoid_df = pd.DataFrame(results)\n",
    "\n",
    "# Save the results to a Excel file\n",
    "geoid_df.to_excel(\"/Users/ritziscol23/Dropbox/My Mac (MacBook-Pro.zyxel.com)/Downloads/Señior assignments/Community partners/Student_GEOID_Mapping.xlsx\", index=False) # Change file output\n",
    "\n",
    "# Print the first few rows to check\n",
    "print(geoid_df.head())"
   ]
  },
  {
   "cell_type": "markdown",
   "id": "14176b79-5b40-4361-a1da-a27d023b20b2",
   "metadata": {},
   "source": [
    "# Producing LAT and LONG for Schools "
   ]
  },
  {
   "cell_type": "code",
   "execution_count": 4,
   "id": "60ad368b",
   "metadata": {},
   "outputs": [
    {
     "name": "stdout",
     "output_type": "stream",
     "text": [
      "                             School                 Address   Latitude  \\\n",
      "0             MacArthur High School  1499 West Grand Avenue  39.854421   \n",
      "1               Ball Charter School    2530 East Ash Street  39.779789   \n",
      "2  Trinity Lutheran Church & School    515 S MacArthur Blvd  39.797556   \n",
      "3     Stephen Decatur Middle School   1 Educational Park Dr   No Match   \n",
      "4             Lincoln Magnet School   300 South 11th Street  39.799266   \n",
      "\n",
      "   Longitude  \n",
      "0  -88.98002  \n",
      "1  -89.61856  \n",
      "2 -89.668225  \n",
      "3   No Match  \n",
      "4  -89.64078  \n"
     ]
    },
    {
     "name": "stderr",
     "output_type": "stream",
     "text": [
      "/var/folders/3y/y9xzkzj11pdb6_slv2s_8rk80000gn/T/ipykernel_80972/3594279116.py:49: UserWarning: Pandas requires version '3.0.5' or newer of 'xlsxwriter' (version '3.0.3' currently installed).\n",
      "  lat_lon_df.to_excel(output_file, index=False)\n"
     ]
    }
   ],
   "source": [
    "# Load the school data\n",
    "file_path = \"/Users/ritziscol23/Dropbox/My Mac (MacBook-Pro.zyxel.com)/Downloads/Señior assignments/Community partners/Student_Toy_data.xlsx\" # Change file path\n",
    "school_df = pd.read_excel(file_path, sheet_name=\"SchoolDemographics\")\n",
    "\n",
    "# API Base URL\n",
    "base_url = \"https://geocoding.geo.census.gov/geocoder/locations/address\"\n",
    "\n",
    "# Empty list to store results\n",
    "results = []\n",
    "\n",
    "# Iterate through each school\n",
    "for index, row in school_df.iterrows():\n",
    "    address_params = {\n",
    "        \"street\": row[\"SchoolAddress\"],\n",
    "        \"city\": row[\"City\"],\n",
    "        \"state\": row[\"State\"],\n",
    "        \"benchmark\": \"Public_AR_Current\",  # Use latest census data\n",
    "        \"format\": \"json\"\n",
    "    }\n",
    "\n",
    "    response = requests.get(base_url, params=address_params)\n",
    "\n",
    "    if response.status_code == 200:\n",
    "        data = response.json()\n",
    "        try:\n",
    "            if data['result']['addressMatches']:\n",
    "                lat = data['result']['addressMatches'][0]['coordinates']['y']\n",
    "                lon = data['result']['addressMatches'][0]['coordinates']['x']\n",
    "            else:\n",
    "                lat, lon = \"No Match\", \"No Match\"\n",
    "        except KeyError:\n",
    "            lat, lon = \"No Match\", \"No Match\"\n",
    "    else:\n",
    "        lat, lon = \"API Error\", \"API Error\"\n",
    "\n",
    "    # Append school name, address, lat, lon\n",
    "    results.append({\n",
    "        \"School\": row[\"SchoolName\"],\n",
    "        \"Address\": row[\"SchoolAddress\"],\n",
    "        \"Latitude\": lat,\n",
    "        \"Longitude\": lon\n",
    "    })\n",
    "\n",
    "    time.sleep(1)  # Avoid API rate limits\n",
    "\n",
    "# Convert results into a DataFrame and save as Excel\n",
    "lat_lon_df = pd.DataFrame(results)\n",
    "output_file = \"/Users/ritziscol23/Dropbox/My Mac (MacBook-Pro.zyxel.com)/Downloads/Señior assignments/Community partners/School_Lat_Lon.xlsx\" # Change file output\n",
    "lat_lon_df.to_excel(output_file, index=False)\n",
    "\n",
    "# Print first few rows for verification\n",
    "print(lat_lon_df.head())\n"
   ]
  },
  {
   "cell_type": "markdown",
   "id": "01e391f2-1e5f-4c1b-9707-d9b6eaf5e1c5",
   "metadata": {},
   "source": [
    "# Producing LAT an Long for students  "
   ]
  },
  {
   "cell_type": "code",
   "execution_count": 2,
   "id": "50930816-7938-4c4c-a28c-065c31ba029f",
   "metadata": {},
   "outputs": [
    {
     "name": "stdout",
     "output_type": "stream",
     "text": [
      "   Student ID              Address         City State   Latitude  Longitude\n",
      "0        1001    2421 Arrowhead Dr  Springfield    IL   39.83459 -89.627351\n",
      "1        1002         922 N 4th St  Springfield    IL  39.811174 -89.650463\n",
      "2        1003  2213 W Chatsford Ct       Peoria    IL  40.810568 -89.626836\n",
      "3        1004   344 Point Bluff Dr      Decatur    IL  39.811784 -88.939373\n",
      "4        1005      2001 Marland St  Springfield    IL  39.826984 -89.647067\n"
     ]
    },
    {
     "name": "stderr",
     "output_type": "stream",
     "text": [
      "/var/folders/3y/y9xzkzj11pdb6_slv2s_8rk80000gn/T/ipykernel_6797/705153809.py:61: UserWarning: Pandas requires version '3.0.5' or newer of 'xlsxwriter' (version '3.0.3' currently installed).\n",
      "  student_coords_df.to_excel(output_path, index=False)\n"
     ]
    }
   ],
   "source": [
    "# File path to your Excel file\n",
    "file_path = \"/Users/ritziscol23/Dropbox/My Mac (MacBook-Pro.zyxel.com)/Downloads/Señior assignments/Community partners/Student_Toy_data.xlsx\"\n",
    "\n",
    "# Load the StudentDemographics sheet\n",
    "student_df = pd.read_excel(file_path, sheet_name=\"StudentDemographics\")\n",
    "\n",
    "# Base API URL for latitude and longitude\n",
    "base_url = \"https://geocoding.geo.census.gov/geocoder/locations/address\"\n",
    "\n",
    "# Prepare results list\n",
    "results = []\n",
    "\n",
    "# Loop through each student's address\n",
    "for index, row in student_df.iterrows():\n",
    "    # Replace column names below if yours are different\n",
    "    address_params = {\n",
    "        \"street\": row[\"Address\"],\n",
    "        \"city\": row[\"City\"],\n",
    "        \"state\": row[\"State\"],\n",
    "        \"benchmark\": \"Public_AR_Current\",\n",
    "        \"format\": \"json\"\n",
    "    }\n",
    "\n",
    "    # API request\n",
    "    response = requests.get(base_url, params=address_params)\n",
    "\n",
    "    # Process response\n",
    "    if response.status_code == 200:\n",
    "        data = response.json()\n",
    "        try:\n",
    "            if data['result']['addressMatches']:\n",
    "                lat = data['result']['addressMatches'][0]['coordinates']['y']\n",
    "                lon = data['result']['addressMatches'][0]['coordinates']['x']\n",
    "            else:\n",
    "                lat, lon = \"No Match\", \"No Match\"\n",
    "        except KeyError:\n",
    "            lat, lon = \"No Match\", \"No Match\"\n",
    "    else:\n",
    "        lat, lon = \"Error\", \"Error\"\n",
    "\n",
    "    # Append results\n",
    "    results.append({\n",
    "        \"Student ID\": row.get(\"StudentID\", index),  \n",
    "        \"Address\": row[\"Address\"],\n",
    "        \"City\": row[\"City\"],\n",
    "        \"State\": row[\"State\"],\n",
    "        \"Latitude\": lat,\n",
    "        \"Longitude\": lon\n",
    "    })\n",
    "\n",
    "    # Wait to avoid rate limiting\n",
    "    time.sleep(1)\n",
    "\n",
    "# Convert to DataFrame and save\n",
    "student_coords_df = pd.DataFrame(results)\n",
    "output_path = \"/Users/ritziscol23/Dropbox/My Mac (MacBook-Pro.zyxel.com)/Downloads/Señior assignments/Community partners/Student_Lat_Lon.xlsx\" # Change file output\n",
    "student_coords_df.to_excel(output_path, index=False)\n",
    "\n",
    "# Preview the result\n",
    "print(student_coords_df.head())\n"
   ]
  },
  {
   "cell_type": "code",
   "execution_count": null,
   "id": "293049fc-9592-4e7f-b2bf-fa94d18015e7",
   "metadata": {},
   "outputs": [],
   "source": []
  }
 ],
 "metadata": {
  "kernelspec": {
   "display_name": "Python 3 (ipykernel)",
   "language": "python",
   "name": "python3"
  },
  "language_info": {
   "codemirror_mode": {
    "name": "ipython",
    "version": 3
   },
   "file_extension": ".py",
   "mimetype": "text/x-python",
   "name": "python",
   "nbconvert_exporter": "python",
   "pygments_lexer": "ipython3",
   "version": "3.9.12"
  }
 },
 "nbformat": 4,
 "nbformat_minor": 5
}
